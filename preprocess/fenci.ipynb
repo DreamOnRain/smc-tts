{
 "cells": [
  {
   "cell_type": "code",
   "execution_count": 5,
   "metadata": {},
   "outputs": [
    {
     "name": "stdout",
     "output_type": "stream",
     "text": [
      "zong3 de lai2 shuo1 xin1 jia1 po1 shi4 yi2 ge4 mei3 li4 de guo2 jia1\n",
      "< zong3 de lai2 shuo1 & xin1 jia1 po1 # shi4 # yi2 ge4 # mei3 li4 # de # guo2 jia1 >\n"
     ]
    }
   ],
   "source": [
    "import jieba\n",
    "from chinese import replace_comma, process_line, process_continue_pause\n",
    "from pypinyin import lazy_pinyin, Style\n",
    "\n",
    "def get_stopwords():\n",
    "    stopwords = set()\n",
    "    with open('stopwords.txt', 'r', encoding='utf-8') as f:\n",
    "        for line in f:\n",
    "            stopwords.add(line.strip())\n",
    "    return stopwords\n",
    "\n",
    "def get_phoneme_from_text(text: str):\n",
    "    stopwords = get_stopwords()\n",
    "    seg_list = jieba.cut(text, cut_all=False)\n",
    "    seg_list = list(seg_list)\n",
    "    chinese_line = ' '.join(seg_list)\n",
    "    pinyin_line = ' '.join(lazy_pinyin(chinese_line, style=Style.TONE3))\n",
    "    pinyin_line = replace_comma(pinyin_line)\n",
    "    print(pinyin_line)\n",
    "\n",
    "    new_seg_list = []\n",
    "    for seg in seg_list:\n",
    "        new_seg_list.append(seg)\n",
    "        if seg in stopwords:\n",
    "            new_seg_list.append('#4')\n",
    "\n",
    "    chinese_line = '#1'.join(new_seg_list)\n",
    "    chinese_line = replace_comma(chinese_line)\n",
    "    chinese_line = chinese_line.replace(' ', '')\n",
    "    chinese_line = process_continue_pause(chinese_line)\n",
    "    processed_line = process_line(chinese_line, pinyin_line)\n",
    "    phoneme = processed_line.split('|')[1]\n",
    "    return phoneme"
   ]
  },
  {
   "cell_type": "code",
   "execution_count": null,
   "metadata": {},
   "outputs": [],
   "source": []
  }
 ],
 "metadata": {
  "kernelspec": {
   "display_name": "tts",
   "language": "python",
   "name": "python3"
  },
  "language_info": {
   "codemirror_mode": {
    "name": "ipython",
    "version": 3
   },
   "file_extension": ".py",
   "mimetype": "text/x-python",
   "name": "python",
   "nbconvert_exporter": "python",
   "pygments_lexer": "ipython3",
   "version": "3.12.5"
  }
 },
 "nbformat": 4,
 "nbformat_minor": 2
}
